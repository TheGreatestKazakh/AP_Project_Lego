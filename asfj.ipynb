{
 "cells": [
  {
   "cell_type": "code",
   "execution_count": 15,
   "metadata": {},
   "outputs": [],
   "source": [
    "import os\n",
    "import shutil\n",
    "\n",
    "# Set the source directory path\n",
    "src_dir = 'split/val/sets/sets'\n",
    "\n",
    "# Set the destination directory path\n",
    "dst_dir = 'firstmodel/val/sets'\n",
    "\n",
    "# Loop through each folder in the source directory\n",
    "for folder in os.listdir(src_dir):\n",
    "    folder_path = os.path.join(src_dir, folder)\n",
    "    # Check if the folder contains images\n",
    "    if os.path.isdir(folder_path):\n",
    "        images = [f for f in os.listdir(folder_path) if f.endswith('.jpg') or f.endswith('.jpeg') or f.endswith('.png')]\n",
    "        # Loop through each image in the folder\n",
    "        for image in images:\n",
    "            # Get the full path of the image\n",
    "            image_path = os.path.join(folder_path, image)\n",
    "            # Get the new path for the image in the destination folder\n",
    "            new_image_path = os.path.join(dst_dir, image)\n",
    "            # Rename the image to move it to the destination folder\n",
    "            os.rename(image_path, new_image_path)\n"
   ]
  }
 ],
 "metadata": {
  "kernelspec": {
   "display_name": "Python 3",
   "language": "python",
   "name": "python3"
  },
  "language_info": {
   "codemirror_mode": {
    "name": "ipython",
    "version": 3
   },
   "file_extension": ".py",
   "mimetype": "text/x-python",
   "name": "python",
   "nbconvert_exporter": "python",
   "pygments_lexer": "ipython3",
   "version": "3.10.9"
  },
  "orig_nbformat": 4,
  "vscode": {
   "interpreter": {
    "hash": "2e9216d857d1099a9cfa9adf667cc30ae311d60bfe7e0b88d7c9e87393004926"
   }
  }
 },
 "nbformat": 4,
 "nbformat_minor": 2
}
